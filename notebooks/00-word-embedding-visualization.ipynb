{
 "cells": [
  {
   "cell_type": "code",
   "execution_count": 1,
   "metadata": {},
   "outputs": [],
   "source": [
    "from gensim.models import KeyedVectors"
   ]
  },
  {
   "cell_type": "code",
   "execution_count": 2,
   "metadata": {},
   "outputs": [],
   "source": [
    "model = KeyedVectors.load_word2vec_format(\"../vectors/cbow.vec\")"
   ]
  },
  {
   "cell_type": "code",
   "execution_count": 3,
   "metadata": {},
   "outputs": [
    {
     "data": {
      "text/plain": [
       "[('great', 0.858690619468689),\n",
       " ('bad', 0.7951961755752563),\n",
       " ('nice', 0.7772164344787598),\n",
       " ('cool', 0.7248343229293823),\n",
       " ('decent', 0.7190737128257751),\n",
       " ('wonderful', 0.7042049169540405),\n",
       " ('perfect', 0.6733288764953613),\n",
       " ('strong', 0.6461889743804932),\n",
       " ('simple', 0.6240110397338867),\n",
       " ('terrible', 0.6236420273780823)]"
      ]
     },
     "execution_count": 3,
     "metadata": {},
     "output_type": "execute_result"
    }
   ],
   "source": [
    "model.most_similar(\"good\")"
   ]
  },
  {
   "cell_type": "code",
   "execution_count": 4,
   "metadata": {},
   "outputs": [
    {
     "data": {
      "text/plain": [
       "[('awesome', 0.8765298128128052),\n",
       " ('incredible', 0.8726913928985596),\n",
       " ('outstanding', 0.8230834007263184),\n",
       " ('excellent', 0.819190502166748),\n",
       " ('awful', 0.7970936298370361),\n",
       " ('fantastic', 0.7944150567054749),\n",
       " ('wonderful', 0.7790435552597046),\n",
       " ('awsome', 0.7640273571014404),\n",
       " ('exceptional', 0.7629103660583496),\n",
       " ('brilliant', 0.7550380229949951)]"
      ]
     },
     "execution_count": 4,
     "metadata": {},
     "output_type": "execute_result"
    }
   ],
   "source": [
    "model.most_similar(\"amazing\")"
   ]
  },
  {
   "cell_type": "code",
   "execution_count": 5,
   "metadata": {},
   "outputs": [
    {
     "data": {
      "text/plain": [
       "[('atrocious', 0.8906208276748657),\n",
       " ('horrendous', 0.8642652034759521),\n",
       " ('aweful', 0.8498659133911133),\n",
       " ('rediculous', 0.848192036151886),\n",
       " ('appalling', 0.8473729491233826),\n",
       " ('subpar', 0.8463150858879089),\n",
       " ('bogus', 0.8396246433258057),\n",
       " ('censored', 0.8379612565040588),\n",
       " ('intentional', 0.8366214036941528),\n",
       " ('unbeatable', 0.8291414976119995)]"
      ]
     },
     "execution_count": 5,
     "metadata": {},
     "output_type": "execute_result"
    }
   ],
   "source": [
    "model.most_similar(\"abysmal\")"
   ]
  },
  {
   "cell_type": "code",
   "execution_count": 6,
   "metadata": {},
   "outputs": [
    {
     "data": {
      "text/plain": [
       "[('bucks', 0.7926929593086243),\n",
       " ('dollars', 0.7798259258270264),\n",
       " ('cash', 0.7247251868247986),\n",
       " ('price', 0.6892125010490417),\n",
       " ('effort', 0.6798772811889648),\n",
       " ('cents', 0.6709116697311401),\n",
       " ('penny', 0.6478894948959351),\n",
       " ('hype', 0.6306610107421875),\n",
       " ('hardearned', 0.6276970505714417),\n",
       " ('hassle', 0.6241490840911865)]"
      ]
     },
     "execution_count": 6,
     "metadata": {},
     "output_type": "execute_result"
    }
   ],
   "source": [
    "model.most_similar(\"money\")"
   ]
  },
  {
   "cell_type": "code",
   "execution_count": 7,
   "metadata": {},
   "outputs": [
    {
     "data": {
      "text/plain": [
       "[('badly', 0.6527405977249146),\n",
       " ('nicely', 0.5531119108200073),\n",
       " ('quickly', 0.5256502628326416),\n",
       " ('far', 0.5163059234619141),\n",
       " ('poorly', 0.5103999376296997),\n",
       " ('yeah', 0.49624019861221313),\n",
       " ('advertised', 0.49465322494506836),\n",
       " ('easily', 0.4911264181137085),\n",
       " ('smoothly', 0.4861522614955902),\n",
       " ('soon', 0.483798623085022)]"
      ]
     },
     "execution_count": 7,
     "metadata": {},
     "output_type": "execute_result"
    }
   ],
   "source": [
    "model.most_similar(positive=[\"well\", \"bad\"], negative=[\"good\"])"
   ]
  }
 ],
 "metadata": {
  "kernelspec": {
   "display_name": "Python 3",
   "language": "python",
   "name": "python3"
  },
  "language_info": {
   "codemirror_mode": {
    "name": "ipython",
    "version": 3
   },
   "file_extension": ".py",
   "mimetype": "text/x-python",
   "name": "python",
   "nbconvert_exporter": "python",
   "pygments_lexer": "ipython3",
   "version": "3.6.9"
  }
 },
 "nbformat": 4,
 "nbformat_minor": 4
}
